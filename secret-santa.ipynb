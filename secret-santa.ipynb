{
 "cells": [
  {
   "cell_type": "code",
   "execution_count": 2,
   "source": [
    "from cryptography.fernet import Fernet\n",
    "from datetime import datetime\n",
    "import json\n",
    "import random\n",
    "import yagmail"
   ],
   "outputs": [],
   "metadata": {}
  },
  {
   "cell_type": "code",
   "execution_count": 3,
   "source": [
    "def generate_constraints(santa_list_with_details):\n",
    "    constraints = []\n",
    "    santa_names = [x[0] for x in santa_list_with_details]\n",
    "    for santa_id, (_, _, santa_so) in enumerate(santa_list_with_details):\n",
    "        if santa_so is None:\n",
    "            continue\n",
    "        santa_so_id = santa_names.index(santa_so) # will throw a ValueError if santa_so is not in santa_names\n",
    "        constraints.append((santa_id, santa_so_id))\n",
    "    return constraints"
   ],
   "outputs": [],
   "metadata": {}
  },
  {
   "cell_type": "code",
   "execution_count": 4,
   "source": [
    "def generate_permutation(n):\n",
    "    return random.sample(range(n), n)"
   ],
   "outputs": [],
   "metadata": {}
  },
  {
   "cell_type": "code",
   "execution_count": 5,
   "source": [
    "def is_mapping(permutation, constraints):\n",
    "    \"\"\"Determine if a permutation is a valid mapping of santas to santees.\n",
    "    \n",
    "    Valid mapping needs to meet two sets of conditions:\n",
    "    i) a santa cannot give to himself/herself\n",
    "    ii) a santa cannot give to his/her significant other (constraints)\n",
    "    \"\"\"\n",
    "\n",
    "    n = len(permutation)\n",
    "    \n",
    "    # check i) cannot give to self\n",
    "    for i in range(n):\n",
    "        if permutation[i] == i:\n",
    "            return False \n",
    "    \n",
    "    # check ii) cannot give to SO\n",
    "    for i, j in constraints:\n",
    "        if permutation[i] == j:\n",
    "            return False \n",
    "    \n",
    "    return True # otherwise, valid"
   ],
   "outputs": [],
   "metadata": {}
  },
  {
   "cell_type": "code",
   "execution_count": 6,
   "source": [
    "def generate_mapping(n, constraints, max_iter=10000):\n",
    "\n",
    "    # initialize to identity\n",
    "    permutation = list(range(n))\n",
    "    counter = 0\n",
    "    \n",
    "    # keep regenerating permutations until we get a valid mapping\n",
    "    while not is_mapping(permutation, constraints):\n",
    "        if counter > max_iter:\n",
    "            raise Exception(\"Failed to generate a mapping after {} iterations\".format(max_iter))\n",
    "        \n",
    "        permutation = generate_permutation(n)\n",
    "        counter += 1\n",
    "    \n",
    "    print(f\"Valid mapping generated after {counter} attempts\")\n",
    "    return permutation"
   ],
   "outputs": [],
   "metadata": {}
  },
  {
   "cell_type": "code",
   "execution_count": 7,
   "source": [
    "def send_email(santa_name, \n",
    "               santa_email, \n",
    "               santee, \n",
    "               sender, \n",
    "               password, \n",
    "               year,\n",
    "               budget=20, \n",
    "               debug_mode=True):\n",
    "\n",
    "    if debug_mode:\n",
    "        santa_email = sender\n",
    "\n",
    "    yag = yagmail.SMTP(sender, password=password)\n",
    "    yag.send(\n",
    "        to=santa_email,\n",
    "        subject=f\"Secret Santa {year}! 🎄🎅\",\n",
    "        contents=f\"\"\"Ahoj {santa_name},\n",
    "\n",
    "Tento rok si Secret Santa pre: <strong>{santee}</strong>.\n",
    "\n",
    "Pšt, nikomu to nehovor!\n",
    "\n",
    "<small>Budget: {budget}€. Túto správu poslal SecretSantaBot.</small>\"\"\")\n",
    "\n",
    "    print(f\"[{datetime.now()}] email sucessfully sent to '{santa_name}' <{santa_email}>\")"
   ],
   "outputs": [],
   "metadata": {}
  },
  {
   "cell_type": "code",
   "execution_count": 17,
   "source": [
    "current_year = datetime.today().year\n",
    "\n",
    "# read config\n",
    "with open(\"config-example.json\", \"r\") as f:\n",
    "    santa_list_with_details = json.load(f)\n",
    "\n",
    "# extract constraints\n",
    "constraints = generate_constraints(santa_list_with_details)\n",
    "\n",
    "# generate encryption key for writing to disk\n",
    "key = Fernet.generate_key()\n",
    "fernet = Fernet(key)\n",
    "\n",
    "# init the dictionary to be written to disk\n",
    "santa_dict = {}\n",
    "santa_dict['_fernet_key'] = key.decode(\"utf8\")\n",
    "\n",
    "# generate mapping\n",
    "santa_to_santee_mapping = generate_mapping(n=len(santa_list_with_details), constraints=constraints)\n",
    "\n",
    "# loop over all santas\n",
    "for santee_id, (santa_name, santa_email, santa_so) in zip(santa_to_santee_mapping, \n",
    "                                                   santa_list_with_details):\n",
    "    # get santee name from id\n",
    "    santee_name = santa_list_with_details[santee_id][0]\n",
    "\n",
    "    # encrypt santee name and store it in the dict\n",
    "    santa_dict[santa_name] = fernet.encrypt(santee_name.encode()).decode()\n",
    "\n",
    "    # send email to santa\n",
    "    send_email(santa_name=santa_name, \n",
    "               santa_email=santa_email, \n",
    "               santee=santee_name,\n",
    "               sender=\"my.email@gmail.com\", \n",
    "               password=\"VerySecretPassword\",\n",
    "               year=current_year,\n",
    "               budget=20, \n",
    "               debug_mode=True)\n",
    "\n",
    "    # debug print - comment when running for real\n",
    "    print(f\"{santa_name} --> {santee_name} [constraint: {santa_so}]\")\n",
    "\n",
    "# export file with encrypted santees (backup)\n",
    "with open(f\"secret-santa-{current_year}-encrypted.json\", \"w\") as f:\n",
    "    json.dump(santa_dict, f, sort_keys=True, indent=4)"
   ],
   "outputs": [
    {
     "output_type": "stream",
     "name": "stdout",
     "text": [
      "Valid mapping generated after 1 attempts\n",
      "Person1 --> Person8 [constraint: Person2]\n",
      "Person2 --> Person7 [constraint: Person1]\n",
      "Person3 --> Person2 [constraint: Person4]\n",
      "Person4 --> Person6 [constraint: Person3]\n",
      "Person5 --> Person1 [constraint: Person6]\n",
      "Person6 --> Person3 [constraint: Person5]\n",
      "Person7 --> Person4 [constraint: None]\n",
      "Person8 --> Person5 [constraint: None]\n"
     ]
    }
   ],
   "metadata": {}
  }
 ],
 "metadata": {
  "orig_nbformat": 4,
  "language_info": {
   "name": "python",
   "version": "3.9.5",
   "mimetype": "text/x-python",
   "codemirror_mode": {
    "name": "ipython",
    "version": 3
   },
   "pygments_lexer": "ipython3",
   "nbconvert_exporter": "python",
   "file_extension": ".py"
  },
  "kernelspec": {
   "name": "python3",
   "display_name": "Python 3.9.5 64-bit"
  },
  "interpreter": {
   "hash": "916dbcbb3f70747c44a77c7bcd40155683ae19c65e1c03b4aa3499c5328201f1"
  }
 },
 "nbformat": 4,
 "nbformat_minor": 2
}